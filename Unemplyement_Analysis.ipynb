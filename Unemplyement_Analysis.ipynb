{
 "cells": [
  {
   "cell_type": "markdown",
   "id": "77a221be",
   "metadata": {},
   "source": [
    "# UNEMPLOYMENT ANALYSIS WITH PYTHON \n",
    "\n",
    "## Problem Statement :\n",
    "\n",
    "## Unemployment is measured by the unemployment rate which is the number of people who are unemployed as a percentage of the total labour force. We have seen a sharp increase in the unemployment rate during Covid-19, so analyzing the unemployment rate can be a good data science project. \n"
   ]
  },
  {
   "cell_type": "code",
   "execution_count": 1,
   "id": "65271bd6",
   "metadata": {},
   "outputs": [],
   "source": [
    "#importing modules \n",
    "import pandas as pd\n",
    "import numpy as np\n",
    "import matplotlib as mlp\n",
    "import matplotlib.pyplot as plt\n",
    "import plotly.figure_factory as ff\n",
    "import plotly.graph_objects as go\n",
    "import seaborn as sns\n",
    "import plotly.express as px\n",
    "%matplotlib inline\n",
    "import datetime as dt\n",
    "import calendar"
   ]
  },
  {
   "cell_type": "code",
   "execution_count": 2,
   "id": "1a371a3c",
   "metadata": {},
   "outputs": [],
   "source": [
    "df = pd.read_csv(\"Unemployment_in_India.csv\")\n",
    "df2 = pd.read_csv(\"Unemployment_Rate_upto_11_2020.csv\")"
   ]
  },
  {
   "cell_type": "code",
   "execution_count": 3,
   "id": "a340d9d0",
   "metadata": {},
   "outputs": [
    {
     "data": {
      "text/plain": [
       "<bound method NDFrame.head of              Region         Date  Frequency   Estimated Unemployment Rate (%)  \\\n",
       "0    Andhra Pradesh   31-05-2019    Monthly                              3.65   \n",
       "1    Andhra Pradesh   30-06-2019    Monthly                              3.05   \n",
       "2    Andhra Pradesh   31-07-2019    Monthly                              3.75   \n",
       "3    Andhra Pradesh   31-08-2019    Monthly                              3.32   \n",
       "4    Andhra Pradesh   30-09-2019    Monthly                              5.17   \n",
       "..              ...          ...        ...                               ...   \n",
       "763             NaN          NaN        NaN                               NaN   \n",
       "764             NaN          NaN        NaN                               NaN   \n",
       "765             NaN          NaN        NaN                               NaN   \n",
       "766             NaN          NaN        NaN                               NaN   \n",
       "767             NaN          NaN        NaN                               NaN   \n",
       "\n",
       "      Estimated Employed   Estimated Labour Participation Rate (%)   Area  \n",
       "0             11999139.0                                     43.24  Rural  \n",
       "1             11755881.0                                     42.05  Rural  \n",
       "2             12086707.0                                     43.50  Rural  \n",
       "3             12285693.0                                     43.97  Rural  \n",
       "4             12256762.0                                     44.68  Rural  \n",
       "..                   ...                                       ...    ...  \n",
       "763                  NaN                                       NaN    NaN  \n",
       "764                  NaN                                       NaN    NaN  \n",
       "765                  NaN                                       NaN    NaN  \n",
       "766                  NaN                                       NaN    NaN  \n",
       "767                  NaN                                       NaN    NaN  \n",
       "\n",
       "[768 rows x 7 columns]>"
      ]
     },
     "execution_count": 3,
     "metadata": {},
     "output_type": "execute_result"
    }
   ],
   "source": [
    "df.head"
   ]
  },
  {
   "cell_type": "code",
   "execution_count": 4,
   "id": "11a9c41f",
   "metadata": {},
   "outputs": [
    {
     "data": {
      "text/plain": [
       "<bound method NDFrame.head of              Region         Date  Frequency   Estimated Unemployment Rate (%)  \\\n",
       "0    Andhra Pradesh   31-01-2020          M                              5.48   \n",
       "1    Andhra Pradesh   29-02-2020          M                              5.83   \n",
       "2    Andhra Pradesh   31-03-2020          M                              5.79   \n",
       "3    Andhra Pradesh   30-04-2020          M                             20.51   \n",
       "4    Andhra Pradesh   31-05-2020          M                             17.43   \n",
       "..              ...          ...        ...                               ...   \n",
       "262     West Bengal   30-06-2020          M                              7.29   \n",
       "263     West Bengal   31-07-2020          M                              6.83   \n",
       "264     West Bengal   31-08-2020          M                             14.87   \n",
       "265     West Bengal   30-09-2020          M                              9.35   \n",
       "266     West Bengal   31-10-2020          M                              9.98   \n",
       "\n",
       "      Estimated Employed   Estimated Labour Participation Rate (%) Region.1  \\\n",
       "0               16635535                                     41.02    South   \n",
       "1               16545652                                     40.90    South   \n",
       "2               15881197                                     39.18    South   \n",
       "3               11336911                                     33.10    South   \n",
       "4               12988845                                     36.46    South   \n",
       "..                   ...                                       ...      ...   \n",
       "262             30726310                                     40.39     East   \n",
       "263             35372506                                     46.17     East   \n",
       "264             33298644                                     47.48     East   \n",
       "265             35707239                                     47.73     East   \n",
       "266             33962549                                     45.63     East   \n",
       "\n",
       "     longitude  latitude  \n",
       "0      15.9129    79.740  \n",
       "1      15.9129    79.740  \n",
       "2      15.9129    79.740  \n",
       "3      15.9129    79.740  \n",
       "4      15.9129    79.740  \n",
       "..         ...       ...  \n",
       "262    22.9868    87.855  \n",
       "263    22.9868    87.855  \n",
       "264    22.9868    87.855  \n",
       "265    22.9868    87.855  \n",
       "266    22.9868    87.855  \n",
       "\n",
       "[267 rows x 9 columns]>"
      ]
     },
     "execution_count": 4,
     "metadata": {},
     "output_type": "execute_result"
    }
   ],
   "source": [
    "df2.head"
   ]
  },
  {
   "cell_type": "code",
   "execution_count": 5,
   "id": "ca109b47",
   "metadata": {},
   "outputs": [
    {
     "name": "stdout",
     "output_type": "stream",
     "text": [
      "<class 'pandas.core.frame.DataFrame'>\n",
      "RangeIndex: 768 entries, 0 to 767\n",
      "Data columns (total 7 columns):\n",
      " #   Column                                    Non-Null Count  Dtype  \n",
      "---  ------                                    --------------  -----  \n",
      " 0   Region                                    740 non-null    object \n",
      " 1    Date                                     740 non-null    object \n",
      " 2    Frequency                                740 non-null    object \n",
      " 3    Estimated Unemployment Rate (%)          740 non-null    float64\n",
      " 4    Estimated Employed                       740 non-null    float64\n",
      " 5    Estimated Labour Participation Rate (%)  740 non-null    float64\n",
      " 6   Area                                      740 non-null    object \n",
      "dtypes: float64(3), object(4)\n",
      "memory usage: 42.1+ KB\n"
     ]
    }
   ],
   "source": [
    "df.info()"
   ]
  },
  {
   "cell_type": "code",
   "execution_count": 6,
   "id": "f44dbab0",
   "metadata": {},
   "outputs": [
    {
     "name": "stdout",
     "output_type": "stream",
     "text": [
      "<class 'pandas.core.frame.DataFrame'>\n",
      "RangeIndex: 267 entries, 0 to 266\n",
      "Data columns (total 9 columns):\n",
      " #   Column                                    Non-Null Count  Dtype  \n",
      "---  ------                                    --------------  -----  \n",
      " 0   Region                                    267 non-null    object \n",
      " 1    Date                                     267 non-null    object \n",
      " 2    Frequency                                267 non-null    object \n",
      " 3    Estimated Unemployment Rate (%)          267 non-null    float64\n",
      " 4    Estimated Employed                       267 non-null    int64  \n",
      " 5    Estimated Labour Participation Rate (%)  267 non-null    float64\n",
      " 6   Region.1                                  267 non-null    object \n",
      " 7   longitude                                 267 non-null    float64\n",
      " 8   latitude                                  267 non-null    float64\n",
      "dtypes: float64(4), int64(1), object(4)\n",
      "memory usage: 18.9+ KB\n"
     ]
    }
   ],
   "source": [
    "df2.info()"
   ]
  },
  {
   "cell_type": "markdown",
   "id": "87e8877e",
   "metadata": {},
   "source": [
    "Estimated Labour Participation Rate(%) --> measure that represents the proportion of the wrong0age population that is either employed or actively seeking employement\n",
    "\n",
    "                 Labour Force Participation Rate (%) = (Labour Force / Working-Age Population) x 100\n",
    "                 \n",
    "                 The Labour Force includes both employed individuals and those who are unemployed but \n",
    "                 actively seeking work.\n",
    "                 \n",
    "                 The Working-Age Population refers to the total number of individuals who are of the\n",
    "                 working age and considered to be part of thr labour force potential.The definiton of \n",
    "                 working age can vary depending on the country and context.\n",
    "                 \n",
    "Estimated Employed --> It represents the count of people who have jobs or are engaged in some form of employement \n",
    "\n",
    "Enstimated Unemployement Rate (%) --> It is calculated by dividing the number of unemployed individuals by the total labour force\n",
    "\n",
    "                  Estimated Unemplyement Rate (%) = (Number of Unemplyed individuals / Labour Force) x 100"
   ]
  },
  {
   "cell_type": "code",
   "execution_count": 7,
   "id": "ffca654d",
   "metadata": {},
   "outputs": [
    {
     "data": {
      "text/plain": [
       "(768, 7)"
      ]
     },
     "execution_count": 7,
     "metadata": {},
     "output_type": "execute_result"
    }
   ],
   "source": [
    "df.shape "
   ]
  },
  {
   "cell_type": "code",
   "execution_count": 8,
   "id": "a48b1d4f",
   "metadata": {},
   "outputs": [
    {
     "data": {
      "text/plain": [
       "(267, 9)"
      ]
     },
     "execution_count": 8,
     "metadata": {},
     "output_type": "execute_result"
    }
   ],
   "source": [
    "df2.shape"
   ]
  },
  {
   "cell_type": "code",
   "execution_count": 9,
   "id": "27237846",
   "metadata": {},
   "outputs": [
    {
     "data": {
      "text/html": [
       "<div>\n",
       "<style scoped>\n",
       "    .dataframe tbody tr th:only-of-type {\n",
       "        vertical-align: middle;\n",
       "    }\n",
       "\n",
       "    .dataframe tbody tr th {\n",
       "        vertical-align: top;\n",
       "    }\n",
       "\n",
       "    .dataframe thead th {\n",
       "        text-align: right;\n",
       "    }\n",
       "</style>\n",
       "<table border=\"1\" class=\"dataframe\">\n",
       "  <thead>\n",
       "    <tr style=\"text-align: right;\">\n",
       "      <th></th>\n",
       "      <th>Estimated Unemployment Rate (%)</th>\n",
       "      <th>Estimated Employed</th>\n",
       "      <th>Estimated Labour Participation Rate (%)</th>\n",
       "    </tr>\n",
       "  </thead>\n",
       "  <tbody>\n",
       "    <tr>\n",
       "      <th>count</th>\n",
       "      <td>740.000000</td>\n",
       "      <td>7.400000e+02</td>\n",
       "      <td>740.000000</td>\n",
       "    </tr>\n",
       "    <tr>\n",
       "      <th>mean</th>\n",
       "      <td>11.787946</td>\n",
       "      <td>7.204460e+06</td>\n",
       "      <td>42.630122</td>\n",
       "    </tr>\n",
       "    <tr>\n",
       "      <th>std</th>\n",
       "      <td>10.721298</td>\n",
       "      <td>8.087988e+06</td>\n",
       "      <td>8.111094</td>\n",
       "    </tr>\n",
       "    <tr>\n",
       "      <th>min</th>\n",
       "      <td>0.000000</td>\n",
       "      <td>4.942000e+04</td>\n",
       "      <td>13.330000</td>\n",
       "    </tr>\n",
       "    <tr>\n",
       "      <th>25%</th>\n",
       "      <td>4.657500</td>\n",
       "      <td>1.190404e+06</td>\n",
       "      <td>38.062500</td>\n",
       "    </tr>\n",
       "    <tr>\n",
       "      <th>50%</th>\n",
       "      <td>8.350000</td>\n",
       "      <td>4.744178e+06</td>\n",
       "      <td>41.160000</td>\n",
       "    </tr>\n",
       "    <tr>\n",
       "      <th>75%</th>\n",
       "      <td>15.887500</td>\n",
       "      <td>1.127549e+07</td>\n",
       "      <td>45.505000</td>\n",
       "    </tr>\n",
       "    <tr>\n",
       "      <th>max</th>\n",
       "      <td>76.740000</td>\n",
       "      <td>4.577751e+07</td>\n",
       "      <td>72.570000</td>\n",
       "    </tr>\n",
       "  </tbody>\n",
       "</table>\n",
       "</div>"
      ],
      "text/plain": [
       "        Estimated Unemployment Rate (%)   Estimated Employed  \\\n",
       "count                        740.000000         7.400000e+02   \n",
       "mean                          11.787946         7.204460e+06   \n",
       "std                           10.721298         8.087988e+06   \n",
       "min                            0.000000         4.942000e+04   \n",
       "25%                            4.657500         1.190404e+06   \n",
       "50%                            8.350000         4.744178e+06   \n",
       "75%                           15.887500         1.127549e+07   \n",
       "max                           76.740000         4.577751e+07   \n",
       "\n",
       "        Estimated Labour Participation Rate (%)  \n",
       "count                                740.000000  \n",
       "mean                                  42.630122  \n",
       "std                                    8.111094  \n",
       "min                                   13.330000  \n",
       "25%                                   38.062500  \n",
       "50%                                   41.160000  \n",
       "75%                                   45.505000  \n",
       "max                                   72.570000  "
      ]
     },
     "execution_count": 9,
     "metadata": {},
     "output_type": "execute_result"
    }
   ],
   "source": [
    "df.describe()"
   ]
  },
  {
   "cell_type": "code",
   "execution_count": 10,
   "id": "01b8d4c5",
   "metadata": {},
   "outputs": [
    {
     "data": {
      "text/html": [
       "<div>\n",
       "<style scoped>\n",
       "    .dataframe tbody tr th:only-of-type {\n",
       "        vertical-align: middle;\n",
       "    }\n",
       "\n",
       "    .dataframe tbody tr th {\n",
       "        vertical-align: top;\n",
       "    }\n",
       "\n",
       "    .dataframe thead th {\n",
       "        text-align: right;\n",
       "    }\n",
       "</style>\n",
       "<table border=\"1\" class=\"dataframe\">\n",
       "  <thead>\n",
       "    <tr style=\"text-align: right;\">\n",
       "      <th></th>\n",
       "      <th>Estimated Unemployment Rate (%)</th>\n",
       "      <th>Estimated Employed</th>\n",
       "      <th>Estimated Labour Participation Rate (%)</th>\n",
       "      <th>longitude</th>\n",
       "      <th>latitude</th>\n",
       "    </tr>\n",
       "  </thead>\n",
       "  <tbody>\n",
       "    <tr>\n",
       "      <th>count</th>\n",
       "      <td>267.000000</td>\n",
       "      <td>2.670000e+02</td>\n",
       "      <td>267.000000</td>\n",
       "      <td>267.000000</td>\n",
       "      <td>267.000000</td>\n",
       "    </tr>\n",
       "    <tr>\n",
       "      <th>mean</th>\n",
       "      <td>12.236929</td>\n",
       "      <td>1.396211e+07</td>\n",
       "      <td>41.681573</td>\n",
       "      <td>22.826048</td>\n",
       "      <td>80.532425</td>\n",
       "    </tr>\n",
       "    <tr>\n",
       "      <th>std</th>\n",
       "      <td>10.803283</td>\n",
       "      <td>1.336632e+07</td>\n",
       "      <td>7.845419</td>\n",
       "      <td>6.270731</td>\n",
       "      <td>5.831738</td>\n",
       "    </tr>\n",
       "    <tr>\n",
       "      <th>min</th>\n",
       "      <td>0.500000</td>\n",
       "      <td>1.175420e+05</td>\n",
       "      <td>16.770000</td>\n",
       "      <td>10.850500</td>\n",
       "      <td>71.192400</td>\n",
       "    </tr>\n",
       "    <tr>\n",
       "      <th>25%</th>\n",
       "      <td>4.845000</td>\n",
       "      <td>2.838930e+06</td>\n",
       "      <td>37.265000</td>\n",
       "      <td>18.112400</td>\n",
       "      <td>76.085600</td>\n",
       "    </tr>\n",
       "    <tr>\n",
       "      <th>50%</th>\n",
       "      <td>9.650000</td>\n",
       "      <td>9.732417e+06</td>\n",
       "      <td>40.390000</td>\n",
       "      <td>23.610200</td>\n",
       "      <td>79.019300</td>\n",
       "    </tr>\n",
       "    <tr>\n",
       "      <th>75%</th>\n",
       "      <td>16.755000</td>\n",
       "      <td>2.187869e+07</td>\n",
       "      <td>44.055000</td>\n",
       "      <td>27.278400</td>\n",
       "      <td>85.279900</td>\n",
       "    </tr>\n",
       "    <tr>\n",
       "      <th>max</th>\n",
       "      <td>75.850000</td>\n",
       "      <td>5.943376e+07</td>\n",
       "      <td>69.690000</td>\n",
       "      <td>33.778200</td>\n",
       "      <td>92.937600</td>\n",
       "    </tr>\n",
       "  </tbody>\n",
       "</table>\n",
       "</div>"
      ],
      "text/plain": [
       "        Estimated Unemployment Rate (%)   Estimated Employed  \\\n",
       "count                        267.000000         2.670000e+02   \n",
       "mean                          12.236929         1.396211e+07   \n",
       "std                           10.803283         1.336632e+07   \n",
       "min                            0.500000         1.175420e+05   \n",
       "25%                            4.845000         2.838930e+06   \n",
       "50%                            9.650000         9.732417e+06   \n",
       "75%                           16.755000         2.187869e+07   \n",
       "max                           75.850000         5.943376e+07   \n",
       "\n",
       "        Estimated Labour Participation Rate (%)   longitude    latitude  \n",
       "count                                267.000000  267.000000  267.000000  \n",
       "mean                                  41.681573   22.826048   80.532425  \n",
       "std                                    7.845419    6.270731    5.831738  \n",
       "min                                   16.770000   10.850500   71.192400  \n",
       "25%                                   37.265000   18.112400   76.085600  \n",
       "50%                                   40.390000   23.610200   79.019300  \n",
       "75%                                   44.055000   27.278400   85.279900  \n",
       "max                                   69.690000   33.778200   92.937600  "
      ]
     },
     "execution_count": 10,
     "metadata": {},
     "output_type": "execute_result"
    }
   ],
   "source": [
    "df2.describe()"
   ]
  },
  {
   "cell_type": "code",
   "execution_count": 11,
   "id": "eacdcc23",
   "metadata": {},
   "outputs": [
    {
     "data": {
      "text/plain": [
       "Region                                      28\n",
       " Date                                       28\n",
       " Frequency                                  28\n",
       " Estimated Unemployment Rate (%)            28\n",
       " Estimated Employed                         28\n",
       " Estimated Labour Participation Rate (%)    28\n",
       "Area                                        28\n",
       "dtype: int64"
      ]
     },
     "execution_count": 11,
     "metadata": {},
     "output_type": "execute_result"
    }
   ],
   "source": [
    "df.isnull().sum()  #returns the count of null values in each column."
   ]
  },
  {
   "cell_type": "code",
   "execution_count": 12,
   "id": "cd7b54b0",
   "metadata": {},
   "outputs": [
    {
     "data": {
      "text/plain": [
       "Region                                      0\n",
       " Date                                       0\n",
       " Frequency                                  0\n",
       " Estimated Unemployment Rate (%)            0\n",
       " Estimated Employed                         0\n",
       " Estimated Labour Participation Rate (%)    0\n",
       "Region.1                                    0\n",
       "longitude                                   0\n",
       "latitude                                    0\n",
       "dtype: int64"
      ]
     },
     "execution_count": 12,
     "metadata": {},
     "output_type": "execute_result"
    }
   ],
   "source": [
    "df2.isnull().sum()  #returns the count of null values in each column."
   ]
  },
  {
   "cell_type": "code",
   "execution_count": 13,
   "id": "a0eec17f",
   "metadata": {},
   "outputs": [
    {
     "data": {
      "text/plain": [
       "Region                                      0\n",
       " Date                                       0\n",
       " Frequency                                  0\n",
       " Estimated Unemployment Rate (%)            0\n",
       " Estimated Employed                         0\n",
       " Estimated Labour Participation Rate (%)    0\n",
       "Area                                        0\n",
       "dtype: int64"
      ]
     },
     "execution_count": 13,
     "metadata": {},
     "output_type": "execute_result"
    }
   ],
   "source": [
    "#drop null values\n",
    "df= df.dropna()\n",
    "df.isnull().sum()"
   ]
  },
  {
   "cell_type": "code",
   "execution_count": 14,
   "id": "b1b69ea8",
   "metadata": {},
   "outputs": [
    {
     "data": {
      "text/plain": [
       "Region                                      0\n",
       " Date                                       0\n",
       " Frequency                                  0\n",
       " Estimated Unemployment Rate (%)            0\n",
       " Estimated Employed                         0\n",
       " Estimated Labour Participation Rate (%)    0\n",
       "Area                                        0\n",
       "dtype: int64"
      ]
     },
     "execution_count": 14,
     "metadata": {},
     "output_type": "execute_result"
    }
   ],
   "source": [
    "df.isna().sum()"
   ]
  },
  {
   "cell_type": "code",
   "execution_count": 15,
   "id": "45e5201e",
   "metadata": {},
   "outputs": [
    {
     "data": {
      "text/plain": [
       "(740, 7)"
      ]
     },
     "execution_count": 15,
     "metadata": {},
     "output_type": "execute_result"
    }
   ],
   "source": [
    "df.shape"
   ]
  },
  {
   "cell_type": "code",
   "execution_count": 16,
   "id": "225bc8f4",
   "metadata": {},
   "outputs": [
    {
     "data": {
      "text/plain": [
       "0"
      ]
     },
     "execution_count": 16,
     "metadata": {},
     "output_type": "execute_result"
    }
   ],
   "source": [
    "df.duplicated().sum()"
   ]
  },
  {
   "cell_type": "code",
   "execution_count": 17,
   "id": "f614c3ba",
   "metadata": {},
   "outputs": [
    {
     "data": {
      "text/plain": [
       "0"
      ]
     },
     "execution_count": 17,
     "metadata": {},
     "output_type": "execute_result"
    }
   ],
   "source": [
    "df2.duplicated().sum()"
   ]
  },
  {
   "cell_type": "code",
   "execution_count": 18,
   "id": "a25fc281",
   "metadata": {},
   "outputs": [],
   "source": [
    "# renaming the columns for ease of understanding \n",
    "\n",
    "df.columns = ['State', 'Date' , 'Frequency', 'Estimated Unemployement Rate', 'Estimated Employed', 'Estimated Labour Participation Rate', 'Area']"
   ]
  },
  {
   "cell_type": "code",
   "execution_count": 19,
   "id": "4ec21288",
   "metadata": {},
   "outputs": [
    {
     "data": {
      "text/plain": [
       "Index(['State', 'Date', 'Frequency', 'Estimated Unemployement Rate',\n",
       "       'Estimated Employed', 'Estimated Labour Participation Rate', 'Area'],\n",
       "      dtype='object')"
      ]
     },
     "execution_count": 19,
     "metadata": {},
     "output_type": "execute_result"
    }
   ],
   "source": [
    "df.columns"
   ]
  },
  {
   "cell_type": "code",
   "execution_count": 20,
   "id": "ca10112e",
   "metadata": {},
   "outputs": [],
   "source": [
    "df2.columns = ['State', 'Date' , 'Frequency', 'Estimated Unemployement Rate', 'Estimated Employed', 'Estimated Labour Participation Rate', 'Region', 'longitude', 'latitude']"
   ]
  },
  {
   "cell_type": "code",
   "execution_count": 21,
   "id": "8c92c2c0",
   "metadata": {},
   "outputs": [
    {
     "data": {
      "text/plain": [
       "Index(['State', 'Date', 'Frequency', 'Estimated Unemployement Rate',\n",
       "       'Estimated Employed', 'Estimated Labour Participation Rate', 'Region',\n",
       "       'longitude', 'latitude'],\n",
       "      dtype='object')"
      ]
     },
     "execution_count": 21,
     "metadata": {},
     "output_type": "execute_result"
    }
   ],
   "source": [
    "df2.columns"
   ]
  },
  {
   "cell_type": "code",
   "execution_count": 22,
   "id": "daab5455",
   "metadata": {},
   "outputs": [
    {
     "data": {
      "text/html": [
       "<div>\n",
       "<style scoped>\n",
       "    .dataframe tbody tr th:only-of-type {\n",
       "        vertical-align: middle;\n",
       "    }\n",
       "\n",
       "    .dataframe tbody tr th {\n",
       "        vertical-align: top;\n",
       "    }\n",
       "\n",
       "    .dataframe thead th {\n",
       "        text-align: right;\n",
       "    }\n",
       "</style>\n",
       "<table border=\"1\" class=\"dataframe\">\n",
       "  <thead>\n",
       "    <tr style=\"text-align: right;\">\n",
       "      <th></th>\n",
       "      <th>State</th>\n",
       "      <th>Date</th>\n",
       "      <th>Frequency</th>\n",
       "      <th>Estimated Unemployement Rate</th>\n",
       "      <th>Estimated Employed</th>\n",
       "      <th>Estimated Labour Participation Rate</th>\n",
       "      <th>Area</th>\n",
       "    </tr>\n",
       "  </thead>\n",
       "  <tbody>\n",
       "    <tr>\n",
       "      <th>0</th>\n",
       "      <td>Andhra Pradesh</td>\n",
       "      <td>31-05-2019</td>\n",
       "      <td>Monthly</td>\n",
       "      <td>3.65</td>\n",
       "      <td>11999139.0</td>\n",
       "      <td>43.24</td>\n",
       "      <td>Rural</td>\n",
       "    </tr>\n",
       "    <tr>\n",
       "      <th>1</th>\n",
       "      <td>Andhra Pradesh</td>\n",
       "      <td>30-06-2019</td>\n",
       "      <td>Monthly</td>\n",
       "      <td>3.05</td>\n",
       "      <td>11755881.0</td>\n",
       "      <td>42.05</td>\n",
       "      <td>Rural</td>\n",
       "    </tr>\n",
       "  </tbody>\n",
       "</table>\n",
       "</div>"
      ],
      "text/plain": [
       "            State         Date Frequency  Estimated Unemployement Rate  \\\n",
       "0  Andhra Pradesh   31-05-2019   Monthly                          3.65   \n",
       "1  Andhra Pradesh   30-06-2019   Monthly                          3.05   \n",
       "\n",
       "   Estimated Employed  Estimated Labour Participation Rate   Area  \n",
       "0          11999139.0                                43.24  Rural  \n",
       "1          11755881.0                                42.05  Rural  "
      ]
     },
     "execution_count": 22,
     "metadata": {},
     "output_type": "execute_result"
    }
   ],
   "source": [
    "df.head(2)"
   ]
  },
  {
   "cell_type": "code",
   "execution_count": 23,
   "id": "29f3ed03",
   "metadata": {},
   "outputs": [
    {
     "data": {
      "text/html": [
       "<div>\n",
       "<style scoped>\n",
       "    .dataframe tbody tr th:only-of-type {\n",
       "        vertical-align: middle;\n",
       "    }\n",
       "\n",
       "    .dataframe tbody tr th {\n",
       "        vertical-align: top;\n",
       "    }\n",
       "\n",
       "    .dataframe thead th {\n",
       "        text-align: right;\n",
       "    }\n",
       "</style>\n",
       "<table border=\"1\" class=\"dataframe\">\n",
       "  <thead>\n",
       "    <tr style=\"text-align: right;\">\n",
       "      <th></th>\n",
       "      <th>State</th>\n",
       "      <th>Date</th>\n",
       "      <th>Frequency</th>\n",
       "      <th>Estimated Unemployement Rate</th>\n",
       "      <th>Estimated Employed</th>\n",
       "      <th>Estimated Labour Participation Rate</th>\n",
       "      <th>Region</th>\n",
       "      <th>longitude</th>\n",
       "      <th>latitude</th>\n",
       "    </tr>\n",
       "  </thead>\n",
       "  <tbody>\n",
       "    <tr>\n",
       "      <th>0</th>\n",
       "      <td>Andhra Pradesh</td>\n",
       "      <td>31-01-2020</td>\n",
       "      <td>M</td>\n",
       "      <td>5.48</td>\n",
       "      <td>16635535</td>\n",
       "      <td>41.02</td>\n",
       "      <td>South</td>\n",
       "      <td>15.9129</td>\n",
       "      <td>79.74</td>\n",
       "    </tr>\n",
       "    <tr>\n",
       "      <th>1</th>\n",
       "      <td>Andhra Pradesh</td>\n",
       "      <td>29-02-2020</td>\n",
       "      <td>M</td>\n",
       "      <td>5.83</td>\n",
       "      <td>16545652</td>\n",
       "      <td>40.90</td>\n",
       "      <td>South</td>\n",
       "      <td>15.9129</td>\n",
       "      <td>79.74</td>\n",
       "    </tr>\n",
       "  </tbody>\n",
       "</table>\n",
       "</div>"
      ],
      "text/plain": [
       "            State         Date Frequency  Estimated Unemployement Rate  \\\n",
       "0  Andhra Pradesh   31-01-2020         M                          5.48   \n",
       "1  Andhra Pradesh   29-02-2020         M                          5.83   \n",
       "\n",
       "   Estimated Employed  Estimated Labour Participation Rate Region  longitude  \\\n",
       "0            16635535                                41.02  South    15.9129   \n",
       "1            16545652                                40.90  South    15.9129   \n",
       "\n",
       "   latitude  \n",
       "0     79.74  \n",
       "1     79.74  "
      ]
     },
     "execution_count": 23,
     "metadata": {},
     "output_type": "execute_result"
    }
   ],
   "source": [
    "df2.head(2)"
   ]
  },
  {
   "cell_type": "code",
   "execution_count": 24,
   "id": "04174a6f",
   "metadata": {},
   "outputs": [
    {
     "data": {
      "text/plain": [
       "'Andhra Pradesh'"
      ]
     },
     "execution_count": 24,
     "metadata": {},
     "output_type": "execute_result"
    }
   ],
   "source": [
    "# State with highest unemployement \n",
    "df['State'].value_counts().idxmax() #idxmax() returns the index(value) with the highest count"
   ]
  },
  {
   "cell_type": "code",
   "execution_count": 25,
   "id": "866cb5ef",
   "metadata": {},
   "outputs": [
    {
     "data": {
      "text/plain": [
       "Andhra Pradesh      28\n",
       "Kerala              28\n",
       "West Bengal         28\n",
       "Uttar Pradesh       28\n",
       "Tripura             28\n",
       "Telangana           28\n",
       "Tamil Nadu          28\n",
       "Rajasthan           28\n",
       "Punjab              28\n",
       "Odisha              28\n",
       "Madhya Pradesh      28\n",
       "Maharashtra         28\n",
       "Karnataka           28\n",
       "Jharkhand           28\n",
       "Himachal Pradesh    28\n",
       "Haryana             28\n",
       "Gujarat             28\n",
       "Delhi               28\n",
       "Chhattisgarh        28\n",
       "Bihar               28\n",
       "Meghalaya           27\n",
       "Uttarakhand         27\n",
       "Assam               26\n",
       "Puducherry          26\n",
       "Goa                 24\n",
       "Jammu & Kashmir     21\n",
       "Sikkim              17\n",
       "Chandigarh          12\n",
       "Name: State, dtype: int64"
      ]
     },
     "execution_count": 25,
     "metadata": {},
     "output_type": "execute_result"
    }
   ],
   "source": [
    "df['State'].value_counts()"
   ]
  },
  {
   "cell_type": "code",
   "execution_count": 26,
   "id": "670c4ea6",
   "metadata": {},
   "outputs": [
    {
     "data": {
      "text/plain": [
       "'Andhra Pradesh'"
      ]
     },
     "execution_count": 26,
     "metadata": {},
     "output_type": "execute_result"
    }
   ],
   "source": [
    "df2['State'].value_counts().idxmax()"
   ]
  },
  {
   "cell_type": "code",
   "execution_count": 27,
   "id": "01a6a474",
   "metadata": {},
   "outputs": [
    {
     "data": {
      "text/plain": [
       "'Chandigarh'"
      ]
     },
     "execution_count": 27,
     "metadata": {},
     "output_type": "execute_result"
    }
   ],
   "source": [
    "df['State'].value_counts().idxmin()"
   ]
  },
  {
   "cell_type": "code",
   "execution_count": 28,
   "id": "b94962e5",
   "metadata": {},
   "outputs": [
    {
     "data": {
      "text/plain": [
       "'Sikkim'"
      ]
     },
     "execution_count": 28,
     "metadata": {},
     "output_type": "execute_result"
    }
   ],
   "source": [
    "df2['State'].value_counts().idxmin()"
   ]
  },
  {
   "cell_type": "code",
   "execution_count": 29,
   "id": "ea006f34",
   "metadata": {},
   "outputs": [],
   "source": [
    "df['Date'] = pd.to_datetime(df['Date'], dayfirst=True)\n",
    "df['month_int'] = df['Date'].dt.month\n",
    "df['month'] = df['month_int'].apply(lambda x: calendar.month_abbr[x])"
   ]
  },
  {
   "cell_type": "code",
   "execution_count": 30,
   "id": "b18b1914",
   "metadata": {},
   "outputs": [],
   "source": [
    "df2['Date'] = pd.to_datetime(df2['Date'], dayfirst=True)\n",
    "df2['month_int'] = df2['Date'].dt.month\n",
    "df2['month'] = df2['month_int'].apply(lambda x: calendar.month_abbr[x])"
   ]
  },
  {
   "cell_type": "code",
   "execution_count": 31,
   "id": "64601a6c",
   "metadata": {},
   "outputs": [
    {
     "data": {
      "text/plain": [
       "'May'"
      ]
     },
     "execution_count": 31,
     "metadata": {},
     "output_type": "execute_result"
    }
   ],
   "source": [
    "df['month'].value_counts().idxmax()"
   ]
  },
  {
   "cell_type": "code",
   "execution_count": 32,
   "id": "c13c5e22",
   "metadata": {},
   "outputs": [
    {
     "data": {
      "text/plain": [
       "'Apr'"
      ]
     },
     "execution_count": 32,
     "metadata": {},
     "output_type": "execute_result"
    }
   ],
   "source": [
    "df['month'].value_counts().idxmin()"
   ]
  },
  {
   "cell_type": "code",
   "execution_count": 33,
   "id": "f36d3b84",
   "metadata": {},
   "outputs": [
    {
     "data": {
      "text/plain": [
       "'Jan'"
      ]
     },
     "execution_count": 33,
     "metadata": {},
     "output_type": "execute_result"
    }
   ],
   "source": [
    "df2['month'].value_counts().idxmin()"
   ]
  },
  {
   "cell_type": "code",
   "execution_count": 34,
   "id": "20cbe36d",
   "metadata": {},
   "outputs": [
    {
     "data": {
      "text/html": [
       "<div>\n",
       "<style scoped>\n",
       "    .dataframe tbody tr th:only-of-type {\n",
       "        vertical-align: middle;\n",
       "    }\n",
       "\n",
       "    .dataframe tbody tr th {\n",
       "        vertical-align: top;\n",
       "    }\n",
       "\n",
       "    .dataframe thead th {\n",
       "        text-align: right;\n",
       "    }\n",
       "</style>\n",
       "<table border=\"1\" class=\"dataframe\">\n",
       "  <thead>\n",
       "    <tr style=\"text-align: right;\">\n",
       "      <th></th>\n",
       "      <th>State</th>\n",
       "      <th>Date</th>\n",
       "      <th>Frequency</th>\n",
       "      <th>Estimated Unemployement Rate</th>\n",
       "      <th>Estimated Employed</th>\n",
       "      <th>Estimated Labour Participation Rate</th>\n",
       "      <th>Area</th>\n",
       "      <th>month_int</th>\n",
       "      <th>month</th>\n",
       "    </tr>\n",
       "  </thead>\n",
       "  <tbody>\n",
       "    <tr>\n",
       "      <th>0</th>\n",
       "      <td>Andhra Pradesh</td>\n",
       "      <td>2019-05-31</td>\n",
       "      <td>Monthly</td>\n",
       "      <td>3.65</td>\n",
       "      <td>11999139.0</td>\n",
       "      <td>43.24</td>\n",
       "      <td>Rural</td>\n",
       "      <td>5</td>\n",
       "      <td>May</td>\n",
       "    </tr>\n",
       "    <tr>\n",
       "      <th>1</th>\n",
       "      <td>Andhra Pradesh</td>\n",
       "      <td>2019-06-30</td>\n",
       "      <td>Monthly</td>\n",
       "      <td>3.05</td>\n",
       "      <td>11755881.0</td>\n",
       "      <td>42.05</td>\n",
       "      <td>Rural</td>\n",
       "      <td>6</td>\n",
       "      <td>Jun</td>\n",
       "    </tr>\n",
       "    <tr>\n",
       "      <th>2</th>\n",
       "      <td>Andhra Pradesh</td>\n",
       "      <td>2019-07-31</td>\n",
       "      <td>Monthly</td>\n",
       "      <td>3.75</td>\n",
       "      <td>12086707.0</td>\n",
       "      <td>43.50</td>\n",
       "      <td>Rural</td>\n",
       "      <td>7</td>\n",
       "      <td>Jul</td>\n",
       "    </tr>\n",
       "  </tbody>\n",
       "</table>\n",
       "</div>"
      ],
      "text/plain": [
       "            State       Date Frequency  Estimated Unemployement Rate  \\\n",
       "0  Andhra Pradesh 2019-05-31   Monthly                          3.65   \n",
       "1  Andhra Pradesh 2019-06-30   Monthly                          3.05   \n",
       "2  Andhra Pradesh 2019-07-31   Monthly                          3.75   \n",
       "\n",
       "   Estimated Employed  Estimated Labour Participation Rate   Area  month_int  \\\n",
       "0          11999139.0                                43.24  Rural          5   \n",
       "1          11755881.0                                42.05  Rural          6   \n",
       "2          12086707.0                                43.50  Rural          7   \n",
       "\n",
       "  month  \n",
       "0   May  \n",
       "1   Jun  \n",
       "2   Jul  "
      ]
     },
     "execution_count": 34,
     "metadata": {},
     "output_type": "execute_result"
    }
   ],
   "source": [
    "df.head(3)"
   ]
  },
  {
   "cell_type": "code",
   "execution_count": 35,
   "id": "689962bd",
   "metadata": {},
   "outputs": [
    {
     "data": {
      "text/html": [
       "<div>\n",
       "<style scoped>\n",
       "    .dataframe tbody tr th:only-of-type {\n",
       "        vertical-align: middle;\n",
       "    }\n",
       "\n",
       "    .dataframe tbody tr th {\n",
       "        vertical-align: top;\n",
       "    }\n",
       "\n",
       "    .dataframe thead th {\n",
       "        text-align: right;\n",
       "    }\n",
       "</style>\n",
       "<table border=\"1\" class=\"dataframe\">\n",
       "  <thead>\n",
       "    <tr style=\"text-align: right;\">\n",
       "      <th></th>\n",
       "      <th>State</th>\n",
       "      <th>Date</th>\n",
       "      <th>Frequency</th>\n",
       "      <th>Estimated Unemployement Rate</th>\n",
       "      <th>Estimated Employed</th>\n",
       "      <th>Estimated Labour Participation Rate</th>\n",
       "      <th>Region</th>\n",
       "      <th>longitude</th>\n",
       "      <th>latitude</th>\n",
       "      <th>month_int</th>\n",
       "      <th>month</th>\n",
       "    </tr>\n",
       "  </thead>\n",
       "  <tbody>\n",
       "    <tr>\n",
       "      <th>0</th>\n",
       "      <td>Andhra Pradesh</td>\n",
       "      <td>2020-01-31</td>\n",
       "      <td>M</td>\n",
       "      <td>5.48</td>\n",
       "      <td>16635535</td>\n",
       "      <td>41.02</td>\n",
       "      <td>South</td>\n",
       "      <td>15.9129</td>\n",
       "      <td>79.74</td>\n",
       "      <td>1</td>\n",
       "      <td>Jan</td>\n",
       "    </tr>\n",
       "    <tr>\n",
       "      <th>1</th>\n",
       "      <td>Andhra Pradesh</td>\n",
       "      <td>2020-02-29</td>\n",
       "      <td>M</td>\n",
       "      <td>5.83</td>\n",
       "      <td>16545652</td>\n",
       "      <td>40.90</td>\n",
       "      <td>South</td>\n",
       "      <td>15.9129</td>\n",
       "      <td>79.74</td>\n",
       "      <td>2</td>\n",
       "      <td>Feb</td>\n",
       "    </tr>\n",
       "    <tr>\n",
       "      <th>2</th>\n",
       "      <td>Andhra Pradesh</td>\n",
       "      <td>2020-03-31</td>\n",
       "      <td>M</td>\n",
       "      <td>5.79</td>\n",
       "      <td>15881197</td>\n",
       "      <td>39.18</td>\n",
       "      <td>South</td>\n",
       "      <td>15.9129</td>\n",
       "      <td>79.74</td>\n",
       "      <td>3</td>\n",
       "      <td>Mar</td>\n",
       "    </tr>\n",
       "  </tbody>\n",
       "</table>\n",
       "</div>"
      ],
      "text/plain": [
       "            State       Date Frequency  Estimated Unemployement Rate  \\\n",
       "0  Andhra Pradesh 2020-01-31         M                          5.48   \n",
       "1  Andhra Pradesh 2020-02-29         M                          5.83   \n",
       "2  Andhra Pradesh 2020-03-31         M                          5.79   \n",
       "\n",
       "   Estimated Employed  Estimated Labour Participation Rate Region  longitude  \\\n",
       "0            16635535                                41.02  South    15.9129   \n",
       "1            16545652                                40.90  South    15.9129   \n",
       "2            15881197                                39.18  South    15.9129   \n",
       "\n",
       "   latitude  month_int month  \n",
       "0     79.74          1   Jan  \n",
       "1     79.74          2   Feb  \n",
       "2     79.74          3   Mar  "
      ]
     },
     "execution_count": 35,
     "metadata": {},
     "output_type": "execute_result"
    }
   ],
   "source": [
    "df2.head(3)"
   ]
  },
  {
   "cell_type": "code",
   "execution_count": 36,
   "id": "8c384f64",
   "metadata": {},
   "outputs": [
    {
     "data": {
      "text/html": [
       "<div>\n",
       "<style scoped>\n",
       "    .dataframe tbody tr th:only-of-type {\n",
       "        vertical-align: middle;\n",
       "    }\n",
       "\n",
       "    .dataframe tbody tr th {\n",
       "        vertical-align: top;\n",
       "    }\n",
       "\n",
       "    .dataframe thead th {\n",
       "        text-align: right;\n",
       "    }\n",
       "</style>\n",
       "<table border=\"1\" class=\"dataframe\">\n",
       "  <thead>\n",
       "    <tr style=\"text-align: right;\">\n",
       "      <th></th>\n",
       "      <th>State</th>\n",
       "      <th>Date</th>\n",
       "      <th>Estimated Unemployement Rate</th>\n",
       "      <th>Estimated Employed</th>\n",
       "      <th>Estimated Labour Participation Rate</th>\n",
       "      <th>Area</th>\n",
       "      <th>month</th>\n",
       "    </tr>\n",
       "  </thead>\n",
       "  <tbody>\n",
       "    <tr>\n",
       "      <th>0</th>\n",
       "      <td>Andhra Pradesh</td>\n",
       "      <td>2019-05-31</td>\n",
       "      <td>3.65</td>\n",
       "      <td>11999139.0</td>\n",
       "      <td>43.24</td>\n",
       "      <td>Rural</td>\n",
       "      <td>May</td>\n",
       "    </tr>\n",
       "    <tr>\n",
       "      <th>1</th>\n",
       "      <td>Andhra Pradesh</td>\n",
       "      <td>2019-06-30</td>\n",
       "      <td>3.05</td>\n",
       "      <td>11755881.0</td>\n",
       "      <td>42.05</td>\n",
       "      <td>Rural</td>\n",
       "      <td>Jun</td>\n",
       "    </tr>\n",
       "    <tr>\n",
       "      <th>2</th>\n",
       "      <td>Andhra Pradesh</td>\n",
       "      <td>2019-07-31</td>\n",
       "      <td>3.75</td>\n",
       "      <td>12086707.0</td>\n",
       "      <td>43.50</td>\n",
       "      <td>Rural</td>\n",
       "      <td>Jul</td>\n",
       "    </tr>\n",
       "    <tr>\n",
       "      <th>3</th>\n",
       "      <td>Andhra Pradesh</td>\n",
       "      <td>2019-08-31</td>\n",
       "      <td>3.32</td>\n",
       "      <td>12285693.0</td>\n",
       "      <td>43.97</td>\n",
       "      <td>Rural</td>\n",
       "      <td>Aug</td>\n",
       "    </tr>\n",
       "    <tr>\n",
       "      <th>4</th>\n",
       "      <td>Andhra Pradesh</td>\n",
       "      <td>2019-09-30</td>\n",
       "      <td>5.17</td>\n",
       "      <td>12256762.0</td>\n",
       "      <td>44.68</td>\n",
       "      <td>Rural</td>\n",
       "      <td>Sep</td>\n",
       "    </tr>\n",
       "    <tr>\n",
       "      <th>...</th>\n",
       "      <td>...</td>\n",
       "      <td>...</td>\n",
       "      <td>...</td>\n",
       "      <td>...</td>\n",
       "      <td>...</td>\n",
       "      <td>...</td>\n",
       "      <td>...</td>\n",
       "    </tr>\n",
       "    <tr>\n",
       "      <th>749</th>\n",
       "      <td>West Bengal</td>\n",
       "      <td>2020-02-29</td>\n",
       "      <td>7.55</td>\n",
       "      <td>10871168.0</td>\n",
       "      <td>44.09</td>\n",
       "      <td>Urban</td>\n",
       "      <td>Feb</td>\n",
       "    </tr>\n",
       "    <tr>\n",
       "      <th>750</th>\n",
       "      <td>West Bengal</td>\n",
       "      <td>2020-03-31</td>\n",
       "      <td>6.67</td>\n",
       "      <td>10806105.0</td>\n",
       "      <td>43.34</td>\n",
       "      <td>Urban</td>\n",
       "      <td>Mar</td>\n",
       "    </tr>\n",
       "    <tr>\n",
       "      <th>751</th>\n",
       "      <td>West Bengal</td>\n",
       "      <td>2020-04-30</td>\n",
       "      <td>15.63</td>\n",
       "      <td>9299466.0</td>\n",
       "      <td>41.20</td>\n",
       "      <td>Urban</td>\n",
       "      <td>Apr</td>\n",
       "    </tr>\n",
       "    <tr>\n",
       "      <th>752</th>\n",
       "      <td>West Bengal</td>\n",
       "      <td>2020-05-31</td>\n",
       "      <td>15.22</td>\n",
       "      <td>9240903.0</td>\n",
       "      <td>40.67</td>\n",
       "      <td>Urban</td>\n",
       "      <td>May</td>\n",
       "    </tr>\n",
       "    <tr>\n",
       "      <th>753</th>\n",
       "      <td>West Bengal</td>\n",
       "      <td>2020-06-30</td>\n",
       "      <td>9.86</td>\n",
       "      <td>9088931.0</td>\n",
       "      <td>37.57</td>\n",
       "      <td>Urban</td>\n",
       "      <td>Jun</td>\n",
       "    </tr>\n",
       "  </tbody>\n",
       "</table>\n",
       "<p>740 rows × 7 columns</p>\n",
       "</div>"
      ],
      "text/plain": [
       "              State       Date  Estimated Unemployement Rate  \\\n",
       "0    Andhra Pradesh 2019-05-31                          3.65   \n",
       "1    Andhra Pradesh 2019-06-30                          3.05   \n",
       "2    Andhra Pradesh 2019-07-31                          3.75   \n",
       "3    Andhra Pradesh 2019-08-31                          3.32   \n",
       "4    Andhra Pradesh 2019-09-30                          5.17   \n",
       "..              ...        ...                           ...   \n",
       "749     West Bengal 2020-02-29                          7.55   \n",
       "750     West Bengal 2020-03-31                          6.67   \n",
       "751     West Bengal 2020-04-30                         15.63   \n",
       "752     West Bengal 2020-05-31                         15.22   \n",
       "753     West Bengal 2020-06-30                          9.86   \n",
       "\n",
       "     Estimated Employed  Estimated Labour Participation Rate   Area month  \n",
       "0            11999139.0                                43.24  Rural   May  \n",
       "1            11755881.0                                42.05  Rural   Jun  \n",
       "2            12086707.0                                43.50  Rural   Jul  \n",
       "3            12285693.0                                43.97  Rural   Aug  \n",
       "4            12256762.0                                44.68  Rural   Sep  \n",
       "..                  ...                                  ...    ...   ...  \n",
       "749          10871168.0                                44.09  Urban   Feb  \n",
       "750          10806105.0                                43.34  Urban   Mar  \n",
       "751           9299466.0                                41.20  Urban   Apr  \n",
       "752           9240903.0                                40.67  Urban   May  \n",
       "753           9088931.0                                37.57  Urban   Jun  \n",
       "\n",
       "[740 rows x 7 columns]"
      ]
     },
     "execution_count": 36,
     "metadata": {},
     "output_type": "execute_result"
    }
   ],
   "source": [
    "df.drop(columns=['Frequency','month_int'])"
   ]
  },
  {
   "cell_type": "code",
   "execution_count": 37,
   "id": "39449a3b",
   "metadata": {},
   "outputs": [
    {
     "data": {
      "text/html": [
       "<div>\n",
       "<style scoped>\n",
       "    .dataframe tbody tr th:only-of-type {\n",
       "        vertical-align: middle;\n",
       "    }\n",
       "\n",
       "    .dataframe tbody tr th {\n",
       "        vertical-align: top;\n",
       "    }\n",
       "\n",
       "    .dataframe thead th {\n",
       "        text-align: right;\n",
       "    }\n",
       "</style>\n",
       "<table border=\"1\" class=\"dataframe\">\n",
       "  <thead>\n",
       "    <tr style=\"text-align: right;\">\n",
       "      <th></th>\n",
       "      <th>State</th>\n",
       "      <th>Date</th>\n",
       "      <th>Estimated Unemployement Rate</th>\n",
       "      <th>Estimated Employed</th>\n",
       "      <th>Estimated Labour Participation Rate</th>\n",
       "      <th>Region</th>\n",
       "      <th>longitude</th>\n",
       "      <th>latitude</th>\n",
       "      <th>month</th>\n",
       "    </tr>\n",
       "  </thead>\n",
       "  <tbody>\n",
       "    <tr>\n",
       "      <th>0</th>\n",
       "      <td>Andhra Pradesh</td>\n",
       "      <td>2020-01-31</td>\n",
       "      <td>5.48</td>\n",
       "      <td>16635535</td>\n",
       "      <td>41.02</td>\n",
       "      <td>South</td>\n",
       "      <td>15.9129</td>\n",
       "      <td>79.740</td>\n",
       "      <td>Jan</td>\n",
       "    </tr>\n",
       "    <tr>\n",
       "      <th>1</th>\n",
       "      <td>Andhra Pradesh</td>\n",
       "      <td>2020-02-29</td>\n",
       "      <td>5.83</td>\n",
       "      <td>16545652</td>\n",
       "      <td>40.90</td>\n",
       "      <td>South</td>\n",
       "      <td>15.9129</td>\n",
       "      <td>79.740</td>\n",
       "      <td>Feb</td>\n",
       "    </tr>\n",
       "    <tr>\n",
       "      <th>2</th>\n",
       "      <td>Andhra Pradesh</td>\n",
       "      <td>2020-03-31</td>\n",
       "      <td>5.79</td>\n",
       "      <td>15881197</td>\n",
       "      <td>39.18</td>\n",
       "      <td>South</td>\n",
       "      <td>15.9129</td>\n",
       "      <td>79.740</td>\n",
       "      <td>Mar</td>\n",
       "    </tr>\n",
       "    <tr>\n",
       "      <th>3</th>\n",
       "      <td>Andhra Pradesh</td>\n",
       "      <td>2020-04-30</td>\n",
       "      <td>20.51</td>\n",
       "      <td>11336911</td>\n",
       "      <td>33.10</td>\n",
       "      <td>South</td>\n",
       "      <td>15.9129</td>\n",
       "      <td>79.740</td>\n",
       "      <td>Apr</td>\n",
       "    </tr>\n",
       "    <tr>\n",
       "      <th>4</th>\n",
       "      <td>Andhra Pradesh</td>\n",
       "      <td>2020-05-31</td>\n",
       "      <td>17.43</td>\n",
       "      <td>12988845</td>\n",
       "      <td>36.46</td>\n",
       "      <td>South</td>\n",
       "      <td>15.9129</td>\n",
       "      <td>79.740</td>\n",
       "      <td>May</td>\n",
       "    </tr>\n",
       "    <tr>\n",
       "      <th>...</th>\n",
       "      <td>...</td>\n",
       "      <td>...</td>\n",
       "      <td>...</td>\n",
       "      <td>...</td>\n",
       "      <td>...</td>\n",
       "      <td>...</td>\n",
       "      <td>...</td>\n",
       "      <td>...</td>\n",
       "      <td>...</td>\n",
       "    </tr>\n",
       "    <tr>\n",
       "      <th>262</th>\n",
       "      <td>West Bengal</td>\n",
       "      <td>2020-06-30</td>\n",
       "      <td>7.29</td>\n",
       "      <td>30726310</td>\n",
       "      <td>40.39</td>\n",
       "      <td>East</td>\n",
       "      <td>22.9868</td>\n",
       "      <td>87.855</td>\n",
       "      <td>Jun</td>\n",
       "    </tr>\n",
       "    <tr>\n",
       "      <th>263</th>\n",
       "      <td>West Bengal</td>\n",
       "      <td>2020-07-31</td>\n",
       "      <td>6.83</td>\n",
       "      <td>35372506</td>\n",
       "      <td>46.17</td>\n",
       "      <td>East</td>\n",
       "      <td>22.9868</td>\n",
       "      <td>87.855</td>\n",
       "      <td>Jul</td>\n",
       "    </tr>\n",
       "    <tr>\n",
       "      <th>264</th>\n",
       "      <td>West Bengal</td>\n",
       "      <td>2020-08-31</td>\n",
       "      <td>14.87</td>\n",
       "      <td>33298644</td>\n",
       "      <td>47.48</td>\n",
       "      <td>East</td>\n",
       "      <td>22.9868</td>\n",
       "      <td>87.855</td>\n",
       "      <td>Aug</td>\n",
       "    </tr>\n",
       "    <tr>\n",
       "      <th>265</th>\n",
       "      <td>West Bengal</td>\n",
       "      <td>2020-09-30</td>\n",
       "      <td>9.35</td>\n",
       "      <td>35707239</td>\n",
       "      <td>47.73</td>\n",
       "      <td>East</td>\n",
       "      <td>22.9868</td>\n",
       "      <td>87.855</td>\n",
       "      <td>Sep</td>\n",
       "    </tr>\n",
       "    <tr>\n",
       "      <th>266</th>\n",
       "      <td>West Bengal</td>\n",
       "      <td>2020-10-31</td>\n",
       "      <td>9.98</td>\n",
       "      <td>33962549</td>\n",
       "      <td>45.63</td>\n",
       "      <td>East</td>\n",
       "      <td>22.9868</td>\n",
       "      <td>87.855</td>\n",
       "      <td>Oct</td>\n",
       "    </tr>\n",
       "  </tbody>\n",
       "</table>\n",
       "<p>267 rows × 9 columns</p>\n",
       "</div>"
      ],
      "text/plain": [
       "              State       Date  Estimated Unemployement Rate  \\\n",
       "0    Andhra Pradesh 2020-01-31                          5.48   \n",
       "1    Andhra Pradesh 2020-02-29                          5.83   \n",
       "2    Andhra Pradesh 2020-03-31                          5.79   \n",
       "3    Andhra Pradesh 2020-04-30                         20.51   \n",
       "4    Andhra Pradesh 2020-05-31                         17.43   \n",
       "..              ...        ...                           ...   \n",
       "262     West Bengal 2020-06-30                          7.29   \n",
       "263     West Bengal 2020-07-31                          6.83   \n",
       "264     West Bengal 2020-08-31                         14.87   \n",
       "265     West Bengal 2020-09-30                          9.35   \n",
       "266     West Bengal 2020-10-31                          9.98   \n",
       "\n",
       "     Estimated Employed  Estimated Labour Participation Rate Region  \\\n",
       "0              16635535                                41.02  South   \n",
       "1              16545652                                40.90  South   \n",
       "2              15881197                                39.18  South   \n",
       "3              11336911                                33.10  South   \n",
       "4              12988845                                36.46  South   \n",
       "..                  ...                                  ...    ...   \n",
       "262            30726310                                40.39   East   \n",
       "263            35372506                                46.17   East   \n",
       "264            33298644                                47.48   East   \n",
       "265            35707239                                47.73   East   \n",
       "266            33962549                                45.63   East   \n",
       "\n",
       "     longitude  latitude month  \n",
       "0      15.9129    79.740   Jan  \n",
       "1      15.9129    79.740   Feb  \n",
       "2      15.9129    79.740   Mar  \n",
       "3      15.9129    79.740   Apr  \n",
       "4      15.9129    79.740   May  \n",
       "..         ...       ...   ...  \n",
       "262    22.9868    87.855   Jun  \n",
       "263    22.9868    87.855   Jul  \n",
       "264    22.9868    87.855   Aug  \n",
       "265    22.9868    87.855   Sep  \n",
       "266    22.9868    87.855   Oct  \n",
       "\n",
       "[267 rows x 9 columns]"
      ]
     },
     "execution_count": 37,
     "metadata": {},
     "output_type": "execute_result"
    }
   ],
   "source": [
    "df2.drop(columns=['Frequency','month_int'])"
   ]
  },
  {
   "cell_type": "code",
   "execution_count": 41,
   "id": "5c38c221",
   "metadata": {},
   "outputs": [],
   "source": [
    "#top 10 states with highest unemployment\n",
    "df_a = df[['State','Estimated Unemployement Rate']].groupby('State').sum().sort_values('Estimated Unemployement Rate',ascending=False)"
   ]
  },
  {
   "cell_type": "code",
   "execution_count": 42,
   "id": "af3d500e",
   "metadata": {},
   "outputs": [],
   "source": [
    "df_b = df2[['State','Estimated Unemployement Rate']].groupby('State').sum().sort_values('Estimated Unemployement Rate',ascending=False)"
   ]
  },
  {
   "cell_type": "code",
   "execution_count": 44,
   "id": "51432fed",
   "metadata": {},
   "outputs": [
    {
     "data": {
      "text/html": [
       "<div>\n",
       "<style scoped>\n",
       "    .dataframe tbody tr th:only-of-type {\n",
       "        vertical-align: middle;\n",
       "    }\n",
       "\n",
       "    .dataframe tbody tr th {\n",
       "        vertical-align: top;\n",
       "    }\n",
       "\n",
       "    .dataframe thead th {\n",
       "        text-align: right;\n",
       "    }\n",
       "</style>\n",
       "<table border=\"1\" class=\"dataframe\">\n",
       "  <thead>\n",
       "    <tr style=\"text-align: right;\">\n",
       "      <th></th>\n",
       "      <th>Estimated Unemployement Rate</th>\n",
       "    </tr>\n",
       "    <tr>\n",
       "      <th>State</th>\n",
       "      <th></th>\n",
       "    </tr>\n",
       "  </thead>\n",
       "  <tbody>\n",
       "    <tr>\n",
       "      <th>Tripura</th>\n",
       "      <td>793.81</td>\n",
       "    </tr>\n",
       "    <tr>\n",
       "      <th>Haryana</th>\n",
       "      <td>735.93</td>\n",
       "    </tr>\n",
       "    <tr>\n",
       "      <th>Jharkhand</th>\n",
       "      <td>576.38</td>\n",
       "    </tr>\n",
       "    <tr>\n",
       "      <th>Bihar</th>\n",
       "      <td>529.71</td>\n",
       "    </tr>\n",
       "    <tr>\n",
       "      <th>Himachal Pradesh</th>\n",
       "      <td>519.13</td>\n",
       "    </tr>\n",
       "    <tr>\n",
       "      <th>Delhi</th>\n",
       "      <td>461.87</td>\n",
       "    </tr>\n",
       "    <tr>\n",
       "      <th>Rajasthan</th>\n",
       "      <td>393.63</td>\n",
       "    </tr>\n",
       "    <tr>\n",
       "      <th>Uttar Pradesh</th>\n",
       "      <td>351.44</td>\n",
       "    </tr>\n",
       "    <tr>\n",
       "      <th>Jammu &amp; Kashmir</th>\n",
       "      <td>339.96</td>\n",
       "    </tr>\n",
       "    <tr>\n",
       "      <th>Punjab</th>\n",
       "      <td>336.87</td>\n",
       "    </tr>\n",
       "  </tbody>\n",
       "</table>\n",
       "</div>"
      ],
      "text/plain": [
       "                  Estimated Unemployement Rate\n",
       "State                                         \n",
       "Tripura                                 793.81\n",
       "Haryana                                 735.93\n",
       "Jharkhand                               576.38\n",
       "Bihar                                   529.71\n",
       "Himachal Pradesh                        519.13\n",
       "Delhi                                   461.87\n",
       "Rajasthan                               393.63\n",
       "Uttar Pradesh                           351.44\n",
       "Jammu & Kashmir                         339.96\n",
       "Punjab                                  336.87"
      ]
     },
     "execution_count": 44,
     "metadata": {},
     "output_type": "execute_result"
    }
   ],
   "source": [
    "df_a.head(10)"
   ]
  },
  {
   "cell_type": "code",
   "execution_count": 45,
   "id": "3cb3a83a",
   "metadata": {},
   "outputs": [
    {
     "data": {
      "text/html": [
       "<div>\n",
       "<style scoped>\n",
       "    .dataframe tbody tr th:only-of-type {\n",
       "        vertical-align: middle;\n",
       "    }\n",
       "\n",
       "    .dataframe tbody tr th {\n",
       "        vertical-align: top;\n",
       "    }\n",
       "\n",
       "    .dataframe thead th {\n",
       "        text-align: right;\n",
       "    }\n",
       "</style>\n",
       "<table border=\"1\" class=\"dataframe\">\n",
       "  <thead>\n",
       "    <tr style=\"text-align: right;\">\n",
       "      <th></th>\n",
       "      <th>Estimated Unemployement Rate</th>\n",
       "    </tr>\n",
       "    <tr>\n",
       "      <th>State</th>\n",
       "      <th></th>\n",
       "    </tr>\n",
       "  </thead>\n",
       "  <tbody>\n",
       "    <tr>\n",
       "      <th>Haryana</th>\n",
       "      <td>274.77</td>\n",
       "    </tr>\n",
       "    <tr>\n",
       "      <th>Tripura</th>\n",
       "      <td>250.55</td>\n",
       "    </tr>\n",
       "    <tr>\n",
       "      <th>Jharkhand</th>\n",
       "      <td>195.39</td>\n",
       "    </tr>\n",
       "    <tr>\n",
       "      <th>Bihar</th>\n",
       "      <td>194.71</td>\n",
       "    </tr>\n",
       "    <tr>\n",
       "      <th>Delhi</th>\n",
       "      <td>184.14</td>\n",
       "    </tr>\n",
       "    <tr>\n",
       "      <th>Puducherry</th>\n",
       "      <td>179.42</td>\n",
       "    </tr>\n",
       "    <tr>\n",
       "      <th>Himachal Pradesh</th>\n",
       "      <td>160.65</td>\n",
       "    </tr>\n",
       "    <tr>\n",
       "      <th>Rajasthan</th>\n",
       "      <td>158.68</td>\n",
       "    </tr>\n",
       "    <tr>\n",
       "      <th>Jammu &amp; Kashmir</th>\n",
       "      <td>148.30</td>\n",
       "    </tr>\n",
       "    <tr>\n",
       "      <th>Tamil Nadu</th>\n",
       "      <td>121.87</td>\n",
       "    </tr>\n",
       "  </tbody>\n",
       "</table>\n",
       "</div>"
      ],
      "text/plain": [
       "                  Estimated Unemployement Rate\n",
       "State                                         \n",
       "Haryana                                 274.77\n",
       "Tripura                                 250.55\n",
       "Jharkhand                               195.39\n",
       "Bihar                                   194.71\n",
       "Delhi                                   184.14\n",
       "Puducherry                              179.42\n",
       "Himachal Pradesh                        160.65\n",
       "Rajasthan                               158.68\n",
       "Jammu & Kashmir                         148.30\n",
       "Tamil Nadu                              121.87"
      ]
     },
     "execution_count": 45,
     "metadata": {},
     "output_type": "execute_result"
    }
   ],
   "source": [
    "df_b.head(10)"
   ]
  },
  {
   "cell_type": "code",
   "execution_count": 52,
   "id": "823afcea",
   "metadata": {},
   "outputs": [
    {
     "data": {
      "text/plain": [
       "Text(0, 0.5, 'Estimated Unemployement Rate')"
      ]
     },
     "execution_count": 52,
     "metadata": {},
     "output_type": "execute_result"
    },
    {
     "data": {
      "image/png": "[encoded data removed]",
      "text/plain": [
       "<Figure size 3000x500 with 1 Axes>"
      ]
     },
     "metadata": {},
     "output_type": "display_data"
    }
   ],
   "source": [
    "# Visualization \n",
    "fig = plt.figure()\n",
    "ax0 = fig.add_subplot(1,2,1)\n",
    "df_a[:10].plot(kind='bar', color='aquamarine', figsize=(30,5),ax=ax0)\n",
    "ax0.set_title('Top 10 States With Highest Unemployement')\n",
    "ax0.set_xlabel('State')\n",
    "ax0.set_ylabel('Estimated Unemployement Rate')"
   ]
  },
  {
   "cell_type": "code",
   "execution_count": 53,
   "id": "883bd5ea",
   "metadata": {},
   "outputs": [
    {
     "data": {
      "text/plain": [
       "Text(0, 0.5, 'Estimated Unemployement Rate')"
      ]
     },
     "execution_count": 53,
     "metadata": {},
     "output_type": "execute_result"
    },
    {
     "data": {
      "image/png": "[encoded data removed]",
      "text/plain": [
       "<Figure size 3000x500 with 1 Axes>"
      ]
     },
     "metadata": {},
     "output_type": "display_data"
    }
   ],
   "source": [
    "fig = plt.figure()\n",
    "ax0 = fig.add_subplot(1,2,1)\n",
    "df_b[:10].plot(kind='bar', color='deeppink', figsize=(30,5),ax=ax0)\n",
    "ax0.set_title('Top 10 States With Highest Unemployement')\n",
    "ax0.set_xlabel('State')\n",
    "ax0.set_ylabel('Estimated Unemployement Rate')"
   ]
  },
  {
   "cell_type": "code",
   "execution_count": 56,
   "id": "eec9846f",
   "metadata": {},
   "outputs": [
    {
     "data": {
      "text/html": [
       "<div>\n",
       "<style scoped>\n",
       "    .dataframe tbody tr th:only-of-type {\n",
       "        vertical-align: middle;\n",
       "    }\n",
       "\n",
       "    .dataframe tbody tr th {\n",
       "        vertical-align: top;\n",
       "    }\n",
       "\n",
       "    .dataframe thead th {\n",
       "        text-align: right;\n",
       "    }\n",
       "</style>\n",
       "<table border=\"1\" class=\"dataframe\">\n",
       "  <thead>\n",
       "    <tr style=\"text-align: right;\">\n",
       "      <th></th>\n",
       "      <th>Estimated Unemployement Rate</th>\n",
       "    </tr>\n",
       "    <tr>\n",
       "      <th>month</th>\n",
       "      <th></th>\n",
       "    </tr>\n",
       "  </thead>\n",
       "  <tbody>\n",
       "    <tr>\n",
       "      <th>May</th>\n",
       "      <td>1747.85</td>\n",
       "    </tr>\n",
       "    <tr>\n",
       "      <th>Apr</th>\n",
       "      <td>1205.72</td>\n",
       "    </tr>\n",
       "    <tr>\n",
       "      <th>Jun</th>\n",
       "      <td>1097.56</td>\n",
       "    </tr>\n",
       "    <tr>\n",
       "      <th>Mar</th>\n",
       "      <td>556.43</td>\n",
       "    </tr>\n",
       "    <tr>\n",
       "      <th>Oct</th>\n",
       "      <td>544.55</td>\n",
       "    </tr>\n",
       "    <tr>\n",
       "      <th>Nov</th>\n",
       "      <td>542.76</td>\n",
       "    </tr>\n",
       "    <tr>\n",
       "      <th>Feb</th>\n",
       "      <td>528.13</td>\n",
       "    </tr>\n",
       "    <tr>\n",
       "      <th>Jan</th>\n",
       "      <td>527.39</td>\n",
       "    </tr>\n",
       "    <tr>\n",
       "      <th>Aug</th>\n",
       "      <td>510.81</td>\n",
       "    </tr>\n",
       "    <tr>\n",
       "      <th>Dec</th>\n",
       "      <td>503.36</td>\n",
       "    </tr>\n",
       "  </tbody>\n",
       "</table>\n",
       "</div>"
      ],
      "text/plain": [
       "       Estimated Unemployement Rate\n",
       "month                              \n",
       "May                         1747.85\n",
       "Apr                         1205.72\n",
       "Jun                         1097.56\n",
       "Mar                          556.43\n",
       "Oct                          544.55\n",
       "Nov                          542.76\n",
       "Feb                          528.13\n",
       "Jan                          527.39\n",
       "Aug                          510.81\n",
       "Dec                          503.36"
      ]
     },
     "execution_count": 56,
     "metadata": {},
     "output_type": "execute_result"
    }
   ],
   "source": [
    "df_b = df[['month','Estimated Unemployement Rate']].groupby('month').sum().sort_values(by='Estimated Unemployement Rate',ascending=False)\n",
    "df_b.head(10)"
   ]
  },
  {
   "cell_type": "code",
   "execution_count": 58,
   "id": "f306beb4",
   "metadata": {},
   "outputs": [
    {
     "data": {
      "text/html": [
       "<div>\n",
       "<style scoped>\n",
       "    .dataframe tbody tr th:only-of-type {\n",
       "        vertical-align: middle;\n",
       "    }\n",
       "\n",
       "    .dataframe tbody tr th {\n",
       "        vertical-align: top;\n",
       "    }\n",
       "\n",
       "    .dataframe thead th {\n",
       "        text-align: right;\n",
       "    }\n",
       "</style>\n",
       "<table border=\"1\" class=\"dataframe\">\n",
       "  <thead>\n",
       "    <tr style=\"text-align: right;\">\n",
       "      <th></th>\n",
       "      <th>Estimated Unemployement Rate</th>\n",
       "    </tr>\n",
       "    <tr>\n",
       "      <th>month</th>\n",
       "      <th></th>\n",
       "    </tr>\n",
       "  </thead>\n",
       "  <tbody>\n",
       "    <tr>\n",
       "      <th>May</th>\n",
       "      <td>627.60</td>\n",
       "    </tr>\n",
       "    <tr>\n",
       "      <th>Apr</th>\n",
       "      <td>578.14</td>\n",
       "    </tr>\n",
       "    <tr>\n",
       "      <th>Jun</th>\n",
       "      <td>294.60</td>\n",
       "    </tr>\n",
       "    <tr>\n",
       "      <th>Mar</th>\n",
       "      <td>291.13</td>\n",
       "    </tr>\n",
       "    <tr>\n",
       "      <th>Aug</th>\n",
       "      <td>278.46</td>\n",
       "    </tr>\n",
       "    <tr>\n",
       "      <th>Jul</th>\n",
       "      <td>265.53</td>\n",
       "    </tr>\n",
       "    <tr>\n",
       "      <th>Feb</th>\n",
       "      <td>240.92</td>\n",
       "    </tr>\n",
       "    <tr>\n",
       "      <th>Jan</th>\n",
       "      <td>239.11</td>\n",
       "    </tr>\n",
       "    <tr>\n",
       "      <th>Sep</th>\n",
       "      <td>235.06</td>\n",
       "    </tr>\n",
       "    <tr>\n",
       "      <th>Oct</th>\n",
       "      <td>216.71</td>\n",
       "    </tr>\n",
       "  </tbody>\n",
       "</table>\n",
       "</div>"
      ],
      "text/plain": [
       "       Estimated Unemployement Rate\n",
       "month                              \n",
       "May                          627.60\n",
       "Apr                          578.14\n",
       "Jun                          294.60\n",
       "Mar                          291.13\n",
       "Aug                          278.46\n",
       "Jul                          265.53\n",
       "Feb                          240.92\n",
       "Jan                          239.11\n",
       "Sep                          235.06\n",
       "Oct                          216.71"
      ]
     },
     "execution_count": 58,
     "metadata": {},
     "output_type": "execute_result"
    }
   ],
   "source": [
    "df_c = df2[['month','Estimated Unemployement Rate']].groupby('month').sum().sort_values('Estimated Unemployement Rate',ascending=False)\n",
    "df_c.head(10)"
   ]
  },
  {
   "cell_type": "code",
   "execution_count": 59,
   "id": "0edb4e4f",
   "metadata": {},
   "outputs": [
    {
     "data": {
      "text/plain": [
       "Text(0, 0.5, 'Estimated Unemployement Rate')"
      ]
     },
     "execution_count": 59,
     "metadata": {},
     "output_type": "execute_result"
    },
    {
     "data": {
      "image/png": "[encoded data removed]",
      "text/plain": [
       "<Figure size 3000x500 with 1 Axes>"
      ]
     },
     "metadata": {},
     "output_type": "display_data"
    }
   ],
   "source": [
    "fig = plt.figure()\n",
    "ax0 = fig.add_subplot(1,2,1)\n",
    "df_b[:12].plot(kind='bar', color='thistle', figsize=(30,5),ax=ax0)\n",
    "ax0.set_title('Months With Highest Unemployement')\n",
    "ax0.set_xlabel('Months')\n",
    "ax0.set_ylabel('Estimated Unemployement Rate')"
   ]
  },
  {
   "cell_type": "code",
   "execution_count": 63,
   "id": "a3209455",
   "metadata": {},
   "outputs": [
    {
     "data": {
      "text/plain": [
       "Text(0, 0.5, 'Estimated Unemployement Rate')"
      ]
     },
     "execution_count": 63,
     "metadata": {},
     "output_type": "execute_result"
    },
    {
     "data": {
      "image/png": "[encoded data removed]",
      "text/plain": [
       "<Figure size 3000x500 with 1 Axes>"
      ]
     },
     "metadata": {},
     "output_type": "display_data"
    }
   ],
   "source": [
    "fig = plt.figure()\n",
    "ax0 = fig.add_subplot(1,2,1)\n",
    "df_c[:12].plot(kind='bar', color='lightcoral', figsize=(30,5),ax=ax0)\n",
    "ax0.set_title('Months With Highest Unemployement')\n",
    "ax0.set_xlabel('Months')\n",
    "ax0.set_ylabel('Estimated Unemployement Rate')"
   ]
  },
  {
   "cell_type": "code",
   "execution_count": null,
   "id": "5643e12f",
   "metadata": {},
   "outputs": [],
   "source": [
    "# Visualize Labour Participation Rate And Unemployement Rate In Each Month \n",
    "df_11 = df.groupby (['month'])[['Estimated Unemployement Rate', 'Estimated Employed', ' Estimated Labour Participation Rate']].mean()\n",
    "df_11 = pd.DataFrame(df_11).reset_index()\n",
    "month = df_11.month\n",
    "unmeployement_rate = df_11['Estimated Unemployement Rate']\n",
    "labour_participation_rate = df_11['Estimated Labour Participation Rate']\n",
    "\n",
    "fig=go.Figure()\n",
    "fig.add_trace(go.Bar(x=month, y=unmeployement_rate, name='Unemployement Rate'))\n",
    "fig.add_trace(go.Bar(x=month, y=labour_participation_rate, name='Labour Participation Rate'))\n",
    "\n",
    "fig.update_layout(title='Unemployement Rate & Labour Participation Rate', xaxis = {'category' : ['Jan', 'Feb', 'March']})"
   ]
  }
 ],
 "metadata": {
  "kernelspec": {
   "display_name": "Python 3 (ipykernel)",
   "language": "python",
   "name": "python3"
  },
  "language_info": {
   "codemirror_mode": {
    "name": "ipython",
    "version": 3
   },
   "file_extension": ".py",
   "mimetype": "text/x-python",
   "name": "python",
   "nbconvert_exporter": "python",
   "pygments_lexer": "ipython3",
   "version": "3.11.3"
  }
 },
 "nbformat": 4,
 "nbformat_minor": 5
}
